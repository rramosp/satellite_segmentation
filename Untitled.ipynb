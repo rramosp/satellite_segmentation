{
 "cells": [
  {
   "cell_type": "code",
   "execution_count": 1,
   "metadata": {},
   "outputs": [],
   "source": [
    "import matplotlib.pyplot as plt\n",
    "from rlx import geo\n",
    "import numpy as np\n",
    "from rlx.utils import read_password_protected_zip, STANDARD_COLORS\n",
    "#%matplotlib inline\n",
    "import shapely as sh\n",
    "from rlx.utils import pbar"
   ]
  },
  {
   "cell_type": "code",
   "execution_count": 2,
   "metadata": {},
   "outputs": [
    {
     "name": "stdout",
     "output_type": "stream",
     "text": [
      "reading shapefile\n",
      "converting to latlon\n",
      "generating polygons\n"
     ]
    },
    {
     "name": "stderr",
     "output_type": "stream",
     "text": [
      "100% (96149 of 96149) |###################| Elapsed Time: 0:00:04 Time: 0:00:04\n"
     ]
    }
   ],
   "source": [
    "shapefile_name = \"/Users/rlx/datasets/google_maps/alcala_henares.catastro_urbano_sin_historia_28_05_UA_2018-01-20_SHF/CONSTRU.SHP\"\n",
    "L1 = geo.GoogleMaps_Shapefile_Layer(\"L1\", shapefile_name, utm_zone_number=30, utm_zone_letter=\"T\")"
   ]
  },
  {
   "cell_type": "code",
   "execution_count": 3,
   "metadata": {},
   "outputs": [
    {
     "name": "stdout",
     "output_type": "stream",
     "text": [
      "reading shapefile\n"
     ]
    }
   ],
   "source": [
    "shapefile_name = \"/Users/rlx/datasets/google_maps/alcala_henares.catastro_urbano_sin_historia_28_05_UA_2018-01-20_SHF/CONSTRU.SHP\"\n",
    "L1 = geo.read_shapefile(shapefile_name)"
   ]
  },
  {
   "cell_type": "code",
   "execution_count": 11,
   "metadata": {},
   "outputs": [
    {
     "name": "stdout",
     "output_type": "stream",
     "text": [
      "(96149, 24)\n"
     ]
    },
    {
     "data": {
      "text/plain": [
       "P                           15955\n",
       "I                           11682\n",
       "-I+II                        8706\n",
       "II                           6835\n",
       "-I+III                       5046\n",
       "-I+I                         3300\n",
       "III                          3148\n",
       "-I                           2703\n",
       "POR                          2064\n",
       "-I+POR+I                     1852\n",
       "TZA                          1584\n",
       "IV                           1397\n",
       "IVTZA                        1249\n",
       "V                            1199\n",
       "SS+II                        1196\n",
       "PI                           1004\n",
       "POR+I                         990\n",
       "SUELO                         970\n",
       "-I+VI                         897\n",
       "B                             814\n",
       "SS+III                        813\n",
       "-I+IV                         800\n",
       "-I+POR                        787\n",
       "-I+V                          758\n",
       "VI                            660\n",
       "VITZA                         603\n",
       "VII                           574\n",
       "SS+POR+I                      552\n",
       "VIITZA                        527\n",
       "VIII                          509\n",
       "                            ...  \n",
       ".-I+V12-I10V                    1\n",
       ".SUELO+IV25IV26SUELO            1\n",
       ".V10I09IV                       1\n",
       "I+IIIPOR                        1\n",
       ".-I+III88-I38III                1\n",
       ".-I+VIII 06-I02VII              1\n",
       ".-I+V12-110V                    1\n",
       ".-I+III10I01-I+II               1\n",
       "-I+I+EPT+TZA+I                  1\n",
       ".-I+VII 06-I04VII               1\n",
       ".-I+III88-I25III                1\n",
       ".-I+ITZA+IV12-I08ITZA+IV        1\n",
       ".-I+VII 06-I03VII               1\n",
       ".-I+III88-I33III                1\n",
       "-I+I+EPT+IV                     1\n",
       "-I+P+VII                        1\n",
       "-IV+III                         1\n",
       "-II+I+EPT+III                   1\n",
       ".III07I06II                     1\n",
       "-I+TEN+V                        1\n",
       ".III12I16II                     1\n",
       ".V02I03IV                       1\n",
       ".-I+P88-I40P                    1\n",
       "-II+EPT+I                       1\n",
       "II+CO                           1\n",
       ".IV09I10III                     1\n",
       "-II+POR+III                     1\n",
       ".-I+III88-I57III                1\n",
       "ESC                             1\n",
       ".II21I19I                       1\n",
       "Name: CONSTRU, Length: 886, dtype: int64"
      ]
     },
     "execution_count": 11,
     "metadata": {},
     "output_type": "execute_result"
    }
   ],
   "source": [
    "print L1.shape\n",
    "L1.CONSTRU.value_counts()"
   ]
  },
  {
   "cell_type": "code",
   "execution_count": 9,
   "metadata": {},
   "outputs": [
    {
     "data": {
      "text/plain": [
       "int"
      ]
     },
     "execution_count": 9,
     "metadata": {},
     "output_type": "execute_result"
    }
   ],
   "source": [
    "type(i)"
   ]
  },
  {
   "cell_type": "code",
   "execution_count": null,
   "metadata": {},
   "outputs": [],
   "source": []
  }
 ],
 "metadata": {
  "kernelspec": {
   "display_name": "Python 2",
   "language": "python",
   "name": "python2"
  },
  "language_info": {
   "codemirror_mode": {
    "name": "ipython",
    "version": 2
   },
   "file_extension": ".py",
   "mimetype": "text/x-python",
   "name": "python",
   "nbconvert_exporter": "python",
   "pygments_lexer": "ipython2",
   "version": "2.7.14"
  }
 },
 "nbformat": 4,
 "nbformat_minor": 2
}
