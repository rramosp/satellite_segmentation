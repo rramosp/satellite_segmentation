{
 "cells": [
  {
   "cell_type": "code",
   "execution_count": 52,
   "metadata": {},
   "outputs": [
    {
     "data": {
      "text/plain": [
       "<module 'rlx.geo' from '/Volumes/sdcard/opt/conda/lib/python2.7/site-packages/rlx/geo.pyc'>"
      ]
     },
     "execution_count": 52,
     "metadata": {},
     "output_type": "execute_result"
    }
   ],
   "source": [
    "import matplotlib.pyplot as plt\n",
    "from rlx import geo\n",
    "import numpy as np\n",
    "from rlx.utils import read_password_protected_zip, STANDARD_COLORS\n",
    "%matplotlib inline\n",
    "import shapely as sh\n",
    "from rlx.utils import pbar\n",
    "import pandas as pd\n",
    "from skimage.io import imread\n",
    "import os\n",
    "reload(geo)\n",
    "#API_key = read_password_protected_zip(\"google_apikey.zip\")"
   ]
  },
  {
   "cell_type": "markdown",
   "metadata": {},
   "source": [
    "# 1. create layer object"
   ]
  },
  {
   "cell_type": "code",
   "execution_count": 2,
   "metadata": {},
   "outputs": [
    {
     "name": "stdout",
     "output_type": "stream",
     "text": [
      "reading shapefile\n",
      "converting to latlon\n",
      "generating polygons\n"
     ]
    },
    {
     "name": "stderr",
     "output_type": "stream",
     "text": [
      "100% (96149 of 96149) |###################| Elapsed Time: 0:00:04 Time: 0:00:04\n"
     ]
    }
   ],
   "source": [
    "reload(geo)\n",
    "\n",
    "BASEDIR = \"/Users/rlx/datasets/google_maps/\"\n",
    "shapefile_name = BASEDIR+\"/alcala_henares.catastro_urbano_sin_historia_28_05_UA_2018-01-20_SHF/CONSTRU.SHP\"\n",
    "L3 = geo.GoogleMaps_Shapefile_Layer(\"L3\", shapefile_name, utm_zone_number=30, utm_zone_letter=\"T\")"
   ]
  },
  {
   "cell_type": "code",
   "execution_count": 3,
   "metadata": {},
   "outputs": [
    {
     "data": {
      "text/html": [
       "<div>\n",
       "<style scoped>\n",
       "    .dataframe tbody tr th:only-of-type {\n",
       "        vertical-align: middle;\n",
       "    }\n",
       "\n",
       "    .dataframe tbody tr th {\n",
       "        vertical-align: top;\n",
       "    }\n",
       "\n",
       "    .dataframe thead th {\n",
       "        text-align: right;\n",
       "    }\n",
       "</style>\n",
       "<table border=\"1\" class=\"dataframe\">\n",
       "  <thead>\n",
       "    <tr style=\"text-align: right;\">\n",
       "      <th></th>\n",
       "      <th>AREA</th>\n",
       "    </tr>\n",
       "    <tr>\n",
       "      <th>NUMSYMBOL</th>\n",
       "      <th></th>\n",
       "    </tr>\n",
       "  </thead>\n",
       "  <tbody>\n",
       "    <tr>\n",
       "      <th>11</th>\n",
       "      <td>5780314.41</td>\n",
       "    </tr>\n",
       "    <tr>\n",
       "      <th>12</th>\n",
       "      <td>1121609.99</td>\n",
       "    </tr>\n",
       "    <tr>\n",
       "      <th>13</th>\n",
       "      <td>451976.17</td>\n",
       "    </tr>\n",
       "    <tr>\n",
       "      <th>14</th>\n",
       "      <td>78714.10</td>\n",
       "    </tr>\n",
       "    <tr>\n",
       "      <th>15</th>\n",
       "      <td>15097327.82</td>\n",
       "    </tr>\n",
       "    <tr>\n",
       "      <th>16</th>\n",
       "      <td>8768.09</td>\n",
       "    </tr>\n",
       "  </tbody>\n",
       "</table>\n",
       "</div>"
      ],
      "text/plain": [
       "                  AREA\n",
       "NUMSYMBOL             \n",
       "11          5780314.41\n",
       "12          1121609.99\n",
       "13           451976.17\n",
       "14            78714.10\n",
       "15         15097327.82\n",
       "16             8768.09"
      ]
     },
     "execution_count": 3,
     "metadata": {},
     "output_type": "execute_result"
    }
   ],
   "source": [
    "d = L3.shapefile\n",
    "d.groupby(\"NUMSYMBOL\")[[\"AREA\"]].sum()"
   ]
  },
  {
   "cell_type": "markdown",
   "metadata": {},
   "source": [
    "# 2. Get list of existing images"
   ]
  },
  {
   "cell_type": "code",
   "execution_count": 53,
   "metadata": {},
   "outputs": [
    {
     "data": {
      "text/plain": [
       "14001"
      ]
     },
     "execution_count": 53,
     "metadata": {},
     "output_type": "execute_result"
    }
   ],
   "source": [
    "from rlx.utils import command\n",
    "\n",
    "_, imgs_fnames, _ = command(\"find \"+BASEDIR+\"/alcala_henares_20180211 -name '*jpg'\")\n",
    "len(imgs_fnames)"
   ]
  },
  {
   "cell_type": "markdown",
   "metadata": {},
   "source": [
    "splits test/train in half by latitude"
   ]
  },
  {
   "cell_type": "code",
   "execution_count": 54,
   "metadata": {},
   "outputs": [],
   "source": [
    "latlons = np.r_[[list(np.r_[i.split(\"_\")][[-7,-6]].astype(float)) for i in imgs_fnames]]\n",
    "median = np.median(latlons, axis=0)\n",
    "imgs_train = np.r_[imgs_fnames][[latlons[:,0]>median[0]]]\n",
    "imgs_test  = np.r_[imgs_fnames][[latlons[:,0]<=median[0]]]"
   ]
  },
  {
   "cell_type": "code",
   "execution_count": 55,
   "metadata": {},
   "outputs": [
    {
     "data": {
      "text/plain": [
       "(7000, 7001, 14001)"
      ]
     },
     "execution_count": 55,
     "metadata": {},
     "output_type": "execute_result"
    }
   ],
   "source": [
    "len(imgs_train), len(imgs_test), len(np.unique(list(imgs_train)+list(imgs_test)))"
   ]
  },
  {
   "cell_type": "markdown",
   "metadata": {},
   "source": [
    "# 3. Define coloring function for each multipolygon in shapefile"
   ]
  },
  {
   "cell_type": "code",
   "execution_count": 94,
   "metadata": {},
   "outputs": [
    {
     "data": {
      "text/plain": [
       "{-1: [0, 0, 0],\n",
       " 0: [255, 255, 255],\n",
       " 11: [255, 0, 0],\n",
       " 12: [255, 0, 255],\n",
       " 13: [255, 128, 64],\n",
       " 14: [0, 0, 255],\n",
       " 15: [0, 255, 0],\n",
       " 16: [0, 128, 255]}"
      ]
     },
     "execution_count": 94,
     "metadata": {},
     "output_type": "execute_result"
    }
   ],
   "source": [
    "cat_cols = [[255,   0,   0], # red\n",
    "            [255,   0, 255], # magenta\n",
    "            [255, 128, 64],  # orange\n",
    "            [  0,   0, 255], # blue\n",
    "            [  0, 255,   0], # green \n",
    "            [  0, 128, 255], # cyan\n",
    "            [255, 255, 255], # white\n",
    "            [  0,   0,   0]] # black\n",
    "            \n",
    "cat_names = [\"constr sobre\", \"constr bajo\", \"zona deport\", \"piscina/estanque\", \n",
    "             \"solar/patio\", \"parcela rustica\", \"sin parcela\", \"unknown\"]\n",
    "cat_codes = [11,12,13,14,15,16,0,-1]\n",
    "\n",
    "dict_names = {cat_codes[i]:cat_names[i] for i in range(len(cat_names))}\n",
    "dict_cols  = {cat_codes[i]:cat_cols[i] for i in range(len(cat_cols))}\n",
    "dict_cols"
   ]
  },
  {
   "cell_type": "markdown",
   "metadata": {},
   "source": [
    "check transformation to single channel image (pixel labels for segmentation)"
   ]
  },
  {
   "cell_type": "code",
   "execution_count": 95,
   "metadata": {},
   "outputs": [
    {
     "data": {
      "image/png": "[encoded data removed]",
      "text/plain": [
       "<matplotlib.figure.Figure at 0x824f65ad0>"
      ]
     },
     "metadata": {},
     "output_type": "display_data"
    },
    {
     "data": {
      "image/png": "[encoded data removed]",
      "text/plain": [
       "<matplotlib.figure.Figure at 0x8247f0850>"
      ]
     },
     "metadata": {},
     "output_type": "display_data"
    },
    {
     "data": {
      "image/png": "[encoded data removed]",
      "text/plain": [
       "<matplotlib.figure.Figure at 0x81bac5710>"
      ]
     },
     "metadata": {},
     "output_type": "display_data"
    }
   ],
   "source": [
    "reload(geo)\n",
    "geo.show_channel_map(cat_cols)"
   ]
  },
  {
   "cell_type": "code",
   "execution_count": 79,
   "metadata": {},
   "outputs": [],
   "source": [
    "def func_label(record, alpha=0):\n",
    "    \n",
    "    c = record.NUMSYMBOL\n",
    "    if c in dict_cols.keys():\n",
    "        t = tuple(np.r_[dict_cols[c]]*1./255), alpha\n",
    "        return t\n",
    "    \n",
    "    return (0,0,0), alpha # black in any other case"
   ]
  },
  {
   "cell_type": "markdown",
   "metadata": {},
   "source": [
    "# 4. Load images and create corresponding layer"
   ]
  },
  {
   "cell_type": "code",
   "execution_count": 96,
   "metadata": {},
   "outputs": [],
   "source": [
    "confs = [{ \"color_func\": lambda x: func_label(x, alpha=0), \n",
    "           \"target_dir\": BASEDIR+\"/alcala_henares_20180211_L3_imgs_train/\",\n",
    "           \"overlay_original\": True, \"verbose\": False},\n",
    "         \n",
    "         { \"color_func\": lambda x: func_label(x, alpha=1), \n",
    "           \"target_dir\": BASEDIR+\"/alcala_henares_20180211_L3_labels_train/\",\n",
    "           \"overlay_original\": False, \"verbose\": False},\n",
    "         \n",
    "         { \"color_func\": lambda x: func_label(x, alpha=.5), \n",
    "           \"target_dir\": BASEDIR+\"/alcala_henares_20180211_L3_overlay_train/\",\n",
    "           \"overlay_original\": True, \"verbose\": False, \"default_alpha\": 0.5},\n",
    "        \n",
    "         { \"color_func\": lambda x: func_label(x, alpha=1), \n",
    "           \"target_dir\": BASEDIR+\"/alcala_henares_20180211_L3_labels_single_channel_train/\",\n",
    "           \"overlay_original\": False, \"verbose\": False, \"single_channel_map\": cat_cols}\n",
    "        \n",
    "        ]\n"
   ]
  },
  {
   "cell_type": "code",
   "execution_count": 105,
   "metadata": {},
   "outputs": [],
   "source": [
    "from joblib import delayed\n",
    "from rlx.utils import mParallel"
   ]
  },
  {
   "cell_type": "code",
   "execution_count": 109,
   "metadata": {
    "scrolled": false
   },
   "outputs": [
    {
     "name": "stdout",
     "output_type": "stream",
     "text": [
      " [mParallel(n_jobs=-1)]: Done   8 out of   8 | elapsed:   22.9s finishedg:    0.0s"
     ]
    }
   ],
   "source": [
    "def generate_imgs(img_fname):\n",
    "    fname = confs[0][\"target_dir\"]+\"/\"+(\".\".join(img_fname.split(\".\")[:-1])+\"_%s%s.jpg\"%(\"L3\", \"\")).split(\"/\")[-1]\n",
    "    if os.path.isfile(fname):\n",
    "        return\n",
    "        \n",
    "    k = geo.GoogleMaps_Static_Image.from_filename(img_fname)\n",
    "    if k is None:\n",
    "        return\n",
    "    L3.save_layer_patches_for_gmaps_img(k, confs)\n",
    "    \n",
    "mParallel(n_jobs=-1, verbose=30)(delayed(generate_imgs)(i) for i in imgs_train[502:510]); \n",
    "    \n",
    "#for img_fname in pbar()(imgs_train[502:510]):\n",
    "#    generate_imgs(L3, img_fname)"
   ]
  },
  {
   "cell_type": "code",
   "execution_count": 103,
   "metadata": {},
   "outputs": [],
   "source": [
    "del(LX)"
   ]
  },
  {
   "cell_type": "code",
   "execution_count": null,
   "metadata": {},
   "outputs": [],
   "source": []
  }
 ],
 "metadata": {
  "kernelspec": {
   "display_name": "Python 2",
   "language": "python",
   "name": "python2"
  },
  "language_info": {
   "codemirror_mode": {
    "name": "ipython",
    "version": 2
   },
   "file_extension": ".py",
   "mimetype": "text/x-python",
   "name": "python",
   "nbconvert_exporter": "python",
   "pygments_lexer": "ipython2",
   "version": "2.7.14"
  }
 },
 "nbformat": 4,
 "nbformat_minor": 2
}
