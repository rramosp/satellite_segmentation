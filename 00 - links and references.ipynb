{
 "cells": [
  {
   "cell_type": "markdown",
   "metadata": {},
   "source": [
    "https://github.com/topics/satellite-imagery?l=python\n",
    "\n",
    "segmentation:\n",
    "\n",
    "http://warmspringwinds.github.io/tensorflow/tf-slim/2016/12/18/image-segmentation-with-tensorflow-using-cnns-and-conditional-random-fields/\n",
    "\n",
    "Fractionally Strided, explanation: http://cv-tricks.com/image-segmentation/transpose-convolution-in-tensorflow/\n",
    "\n",
    "https://jany.st/post/2017-06-25-semantic-image-segmentation-using-fcns.html\n",
    "\n",
    "google search: segmentation tensorflow example\n",
    "\n",
    "apparently easy to use code:\n",
    "- https://plon.io/explore/tensorflow-convolutional-networks-for-semantic-s/6X8iTHxjGfsqEGIvW\n",
    "- https://github.com/MarvinTeichmann/KittiSeg\n",
    "\n",
    "for sallite imgs:\n",
    "- https://github.com/dariopavllo/road-segmentation\n",
    "- https://github.com/mshiv/sat-seg seems straight forward to run\n",
    "- https://github.com/nshaud/DeepNetsForEO/ this one too\n",
    "- https://github.com/nshaud/DeepNetsForEO/blob/master/SegNet_PyTorch_v2.ipynb\n",
    "\n",
    "many links:\n",
    "- https://github.com/mrgloom/awesome-semantic-segmentation\n",
    "\n",
    "competitions\n",
    "- https://www.kaggle.com/c/dstl-satellite-imagery-feature-detection\n",
    "- https://spacenetchallenge.github.io/"
   ]
  },
  {
   "cell_type": "code",
   "execution_count": null,
   "metadata": {},
   "outputs": [],
   "source": []
  }
 ],
 "metadata": {
  "kernelspec": {
   "display_name": "Python 2",
   "language": "python",
   "name": "python2"
  },
  "language_info": {
   "codemirror_mode": {
    "name": "ipython",
    "version": 2
   },
   "file_extension": ".py",
   "mimetype": "text/x-python",
   "name": "python",
   "nbconvert_exporter": "python",
   "pygments_lexer": "ipython2",
   "version": "2.7.14"
  }
 },
 "nbformat": 4,
 "nbformat_minor": 2
}
