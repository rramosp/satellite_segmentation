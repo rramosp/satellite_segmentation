{
 "cells": [
  {
   "cell_type": "code",
   "execution_count": 1,
   "metadata": {},
   "outputs": [],
   "source": [
    "import matplotlib.pyplot as plt\n",
    "from rlx import geo\n",
    "import numpy as np\n",
    "from rlx.utils import read_password_protected_zip, STANDARD_COLORS\n",
    "#%matplotlib inline\n",
    "import shapely as sh\n",
    "from rlx.utils import pbar\n",
    "import pandas as pd\n",
    "from skimage.io import imread\n",
    "import os\n",
    "#API_key = read_password_protected_zip(\"google_apikey.zip\")"
   ]
  },
  {
   "cell_type": "code",
   "execution_count": 2,
   "metadata": {},
   "outputs": [],
   "source": [
    "d = pd.read_csv(\"data/shapefile_categories_map.csv\", index_col=\"CONSTRU\")\n",
    "m = {i:v.values[0] for i,v in d.iterrows()}"
   ]
  },
  {
   "cell_type": "code",
   "execution_count": 3,
   "metadata": {},
   "outputs": [
    {
     "name": "stdout",
     "output_type": "stream",
     "text": [
      "['Deporte-jardin' 'Edificio' 'Jardin' 'Piscina' 'Suelo']\n"
     ]
    }
   ],
   "source": [
    "print np.unique(d.SegConstru)"
   ]
  },
  {
   "cell_type": "code",
   "execution_count": 4,
   "metadata": {},
   "outputs": [
    {
     "data": {
      "text/html": [
       "<div>\n",
       "<style scoped>\n",
       "    .dataframe tbody tr th:only-of-type {\n",
       "        vertical-align: middle;\n",
       "    }\n",
       "\n",
       "    .dataframe tbody tr th {\n",
       "        vertical-align: top;\n",
       "    }\n",
       "\n",
       "    .dataframe thead th {\n",
       "        text-align: right;\n",
       "    }\n",
       "</style>\n",
       "<table border=\"1\" class=\"dataframe\">\n",
       "  <thead>\n",
       "    <tr style=\"text-align: right;\">\n",
       "      <th></th>\n",
       "      <th>SegConstru</th>\n",
       "    </tr>\n",
       "    <tr>\n",
       "      <th>CONSTRU</th>\n",
       "      <th></th>\n",
       "    </tr>\n",
       "  </thead>\n",
       "  <tbody>\n",
       "    <tr>\n",
       "      <th>P</th>\n",
       "      <td>Suelo</td>\n",
       "    </tr>\n",
       "    <tr>\n",
       "      <th>P+I</th>\n",
       "      <td>Edificio</td>\n",
       "    </tr>\n",
       "    <tr>\n",
       "      <th>IVOL</th>\n",
       "      <td>Edificio</td>\n",
       "    </tr>\n",
       "    <tr>\n",
       "      <th>MAR</th>\n",
       "      <td>Edificio</td>\n",
       "    </tr>\n",
       "    <tr>\n",
       "      <th>TEN</th>\n",
       "      <td>Edificio</td>\n",
       "    </tr>\n",
       "    <tr>\n",
       "      <th>TRF</th>\n",
       "      <td>Edificio</td>\n",
       "    </tr>\n",
       "    <tr>\n",
       "      <th>-I+I+POR</th>\n",
       "      <td>Edificio</td>\n",
       "    </tr>\n",
       "    <tr>\n",
       "      <th>I</th>\n",
       "      <td>Edificio</td>\n",
       "    </tr>\n",
       "    <tr>\n",
       "      <th>-I+II</th>\n",
       "      <td>Edificio</td>\n",
       "    </tr>\n",
       "    <tr>\n",
       "      <th>II</th>\n",
       "      <td>Edificio</td>\n",
       "    </tr>\n",
       "    <tr>\n",
       "      <th>-I+III</th>\n",
       "      <td>Edificio</td>\n",
       "    </tr>\n",
       "    <tr>\n",
       "      <th>-I+I</th>\n",
       "      <td>Edificio</td>\n",
       "    </tr>\n",
       "    <tr>\n",
       "      <th>III</th>\n",
       "      <td>Edificio</td>\n",
       "    </tr>\n",
       "    <tr>\n",
       "      <th>-I</th>\n",
       "      <td>Edificio</td>\n",
       "    </tr>\n",
       "    <tr>\n",
       "      <th>POR</th>\n",
       "      <td>Edificio</td>\n",
       "    </tr>\n",
       "    <tr>\n",
       "      <th>-I+POR+I</th>\n",
       "      <td>Edificio</td>\n",
       "    </tr>\n",
       "    <tr>\n",
       "      <th>TZA</th>\n",
       "      <td>Edificio</td>\n",
       "    </tr>\n",
       "    <tr>\n",
       "      <th>IV</th>\n",
       "      <td>Edificio</td>\n",
       "    </tr>\n",
       "    <tr>\n",
       "      <th>IVTZA</th>\n",
       "      <td>Edificio</td>\n",
       "    </tr>\n",
       "    <tr>\n",
       "      <th>V</th>\n",
       "      <td>Edificio</td>\n",
       "    </tr>\n",
       "    <tr>\n",
       "      <th>SS+II</th>\n",
       "      <td>Edificio</td>\n",
       "    </tr>\n",
       "    <tr>\n",
       "      <th>PI</th>\n",
       "      <td>Piscina</td>\n",
       "    </tr>\n",
       "    <tr>\n",
       "      <th>POR+I</th>\n",
       "      <td>Edificio</td>\n",
       "    </tr>\n",
       "    <tr>\n",
       "      <th>SUELO</th>\n",
       "      <td>Suelo</td>\n",
       "    </tr>\n",
       "    <tr>\n",
       "      <th>-I+VI</th>\n",
       "      <td>Edificio</td>\n",
       "    </tr>\n",
       "    <tr>\n",
       "      <th>B</th>\n",
       "      <td>Edificio</td>\n",
       "    </tr>\n",
       "    <tr>\n",
       "      <th>SS+III</th>\n",
       "      <td>Edificio</td>\n",
       "    </tr>\n",
       "    <tr>\n",
       "      <th>-I+IV</th>\n",
       "      <td>Edificio</td>\n",
       "    </tr>\n",
       "    <tr>\n",
       "      <th>-I+POR</th>\n",
       "      <td>Edificio</td>\n",
       "    </tr>\n",
       "    <tr>\n",
       "      <th>-I+V</th>\n",
       "      <td>Edificio</td>\n",
       "    </tr>\n",
       "    <tr>\n",
       "      <th>VI</th>\n",
       "      <td>Edificio</td>\n",
       "    </tr>\n",
       "    <tr>\n",
       "      <th>VITZA</th>\n",
       "      <td>Edificio</td>\n",
       "    </tr>\n",
       "    <tr>\n",
       "      <th>SUELO</th>\n",
       "      <td>Suelo</td>\n",
       "    </tr>\n",
       "    <tr>\n",
       "      <th>ZPAV</th>\n",
       "      <td>Suelo</td>\n",
       "    </tr>\n",
       "    <tr>\n",
       "      <th>ZD</th>\n",
       "      <td>Deporte-jardin</td>\n",
       "    </tr>\n",
       "    <tr>\n",
       "      <th>JD</th>\n",
       "      <td>Jardin</td>\n",
       "    </tr>\n",
       "    <tr>\n",
       "      <th>FUT</th>\n",
       "      <td>Deporte-jardin</td>\n",
       "    </tr>\n",
       "    <tr>\n",
       "      <th>-I+ZPAV</th>\n",
       "      <td>Suelo</td>\n",
       "    </tr>\n",
       "    <tr>\n",
       "      <th>-III</th>\n",
       "      <td>Suelo</td>\n",
       "    </tr>\n",
       "    <tr>\n",
       "      <th>-II+SS+I</th>\n",
       "      <td>Edificio</td>\n",
       "    </tr>\n",
       "    <tr>\n",
       "      <th>GOLF</th>\n",
       "      <td>Deporte-jardin</td>\n",
       "    </tr>\n",
       "    <tr>\n",
       "      <th>-II+ZPAV</th>\n",
       "      <td>Suelo</td>\n",
       "    </tr>\n",
       "    <tr>\n",
       "      <th>-III+SS+IV</th>\n",
       "      <td>Edificio</td>\n",
       "    </tr>\n",
       "  </tbody>\n",
       "</table>\n",
       "</div>"
      ],
      "text/plain": [
       "                SegConstru\n",
       "CONSTRU                   \n",
       "P                    Suelo\n",
       "P+I               Edificio\n",
       "IVOL              Edificio\n",
       "MAR               Edificio\n",
       "TEN               Edificio\n",
       "TRF               Edificio\n",
       "-I+I+POR          Edificio\n",
       "I                 Edificio\n",
       "-I+II             Edificio\n",
       "II                Edificio\n",
       "-I+III            Edificio\n",
       "-I+I              Edificio\n",
       "III               Edificio\n",
       "-I                Edificio\n",
       "POR               Edificio\n",
       "-I+POR+I          Edificio\n",
       "TZA               Edificio\n",
       "IV                Edificio\n",
       "IVTZA             Edificio\n",
       "V                 Edificio\n",
       "SS+II             Edificio\n",
       "PI                 Piscina\n",
       "POR+I             Edificio\n",
       "SUELO                Suelo\n",
       "-I+VI             Edificio\n",
       "B                 Edificio\n",
       "SS+III            Edificio\n",
       "-I+IV             Edificio\n",
       "-I+POR            Edificio\n",
       "-I+V              Edificio\n",
       "VI                Edificio\n",
       "VITZA             Edificio\n",
       "SUELO                Suelo\n",
       "ZPAV                 Suelo\n",
       "ZD          Deporte-jardin\n",
       "JD                  Jardin\n",
       "FUT         Deporte-jardin\n",
       "-I+ZPAV              Suelo\n",
       "-III                 Suelo\n",
       "-II+SS+I          Edificio\n",
       "GOLF        Deporte-jardin\n",
       "-II+ZPAV             Suelo\n",
       "-III+SS+IV        Edificio"
      ]
     },
     "execution_count": 4,
     "metadata": {},
     "output_type": "execute_result"
    }
   ],
   "source": [
    "d"
   ]
  },
  {
   "cell_type": "markdown",
   "metadata": {},
   "source": [
    "# 1. create layer object"
   ]
  },
  {
   "cell_type": "code",
   "execution_count": 5,
   "metadata": {},
   "outputs": [
    {
     "name": "stdout",
     "output_type": "stream",
     "text": [
      "reading shapefile\n",
      "converting to latlon\n",
      "generating polygons\n"
     ]
    },
    {
     "name": "stderr",
     "output_type": "stream",
     "text": [
      "100% (96149 of 96149) |###################| Elapsed Time: 0:00:05 Time: 0:00:05\n"
     ]
    }
   ],
   "source": [
    "reload(geo)\n",
    "\n",
    "shapefile_name = \"/Users/rlx/datasets/google_maps/alcala_henares.catastro_urbano_sin_historia_28_05_UA_2018-01-20_SHF/CONSTRU.SHP\"\n",
    "L2 = geo.GoogleMaps_Shapefile_Layer(\"L2\", shapefile_name, utm_zone_number=30, utm_zone_letter=\"T\")"
   ]
  },
  {
   "cell_type": "markdown",
   "metadata": {},
   "source": [
    "# 2. Get list of existing images"
   ]
  },
  {
   "cell_type": "code",
   "execution_count": 6,
   "metadata": {},
   "outputs": [
    {
     "data": {
      "text/plain": [
       "14001"
      ]
     },
     "execution_count": 6,
     "metadata": {},
     "output_type": "execute_result"
    }
   ],
   "source": [
    "from rlx.utils import command\n",
    "\n",
    "_, imgs_fnames, _ = command(\"find /Users/rlx/datasets/google_maps/alcala_henares_20180211 -name '*jpg'\")\n",
    "len(imgs_fnames)"
   ]
  },
  {
   "cell_type": "markdown",
   "metadata": {},
   "source": [
    "splits test/train in half by latitude"
   ]
  },
  {
   "cell_type": "code",
   "execution_count": 7,
   "metadata": {},
   "outputs": [],
   "source": [
    "latlons = np.r_[[list(np.r_[i.split(\"_\")][[-7,-6]].astype(float)) for i in imgs_fnames]]\n",
    "median = np.median(latlons, axis=0)\n",
    "imgs_train = np.r_[imgs_fnames][[latlons[:,0]>median[0]]]\n",
    "imgs_test  = np.r_[imgs_fnames][[latlons[:,0]<=median[0]]]"
   ]
  },
  {
   "cell_type": "code",
   "execution_count": 8,
   "metadata": {},
   "outputs": [
    {
     "data": {
      "text/plain": [
       "(7000, 7001, 14001)"
      ]
     },
     "execution_count": 8,
     "metadata": {},
     "output_type": "execute_result"
    }
   ],
   "source": [
    "len(imgs_train), len(imgs_test), len(np.unique(list(imgs_train)+list(imgs_test)))"
   ]
  },
  {
   "cell_type": "markdown",
   "metadata": {},
   "source": [
    "# 3. Define coloring function for each multipolygon in shapefile"
   ]
  },
  {
   "cell_type": "code",
   "execution_count": 9,
   "metadata": {},
   "outputs": [],
   "source": [
    "def func_label(record, alpha=0):\n",
    "    if record.CONSTRU not in m.keys():\n",
    "        return \"red\", alpha\n",
    "    c = m[record.CONSTRU]\n",
    "    if c==\"Edificio\":\n",
    "        return \"red\", alpha\n",
    "    if c==\"Suelo\":\n",
    "        return \"yellow\", alpha\n",
    "    if c==\"Piscina\":\n",
    "        return \"blue\", alpha\n",
    "    if c==\"Deporte-jardin\" or c==\"Jardin\":\n",
    "        return \"green\", alpha\n",
    "    else:\n",
    "        print \"unkown\", c\n",
    "        return \"black\", alpha\n",
    "    "
   ]
  },
  {
   "cell_type": "markdown",
   "metadata": {},
   "source": [
    "# 4. Recover image object for each image and create corresponding layer"
   ]
  },
  {
   "cell_type": "code",
   "execution_count": 10,
   "metadata": {},
   "outputs": [],
   "source": [
    "confs = [{ \"color_func\": lambda x: func_label(x, alpha=0), \n",
    "           \"target_dir\": \"/Users/rlx/datasets/google_maps/alcala_henares_20180211_L2_imgs_train/\",\n",
    "           \"overlay_original\": True, \"verbose\": False},\n",
    "         \n",
    "         { \"color_func\": lambda x: func_label(x, alpha=1), \n",
    "           \"target_dir\": \"/Users/rlx/datasets/google_maps/alcala_henares_20180211_L2_labels_train/\",\n",
    "           \"overlay_original\": False, \"verbose\": False},\n",
    "         \n",
    "         { \"color_func\": lambda x: func_label(x, alpha=.5), \n",
    "           \"target_dir\": \"/Users/rlx/datasets/google_maps/alcala_henares_20180211_L2_overlay_train/\",\n",
    "           \"overlay_original\": True, \"verbose\": False, \"default_alpha\": 0.5}]\n"
   ]
  },
  {
   "cell_type": "code",
   "execution_count": 11,
   "metadata": {},
   "outputs": [
    {
     "name": "stderr",
     "output_type": "stream",
     "text": [
      "100% (3650 of 3650) |#####################| Elapsed Time: 0:40:11 Time: 0:40:11\n"
     ]
    }
   ],
   "source": [
    "for img_fname in pbar()(imgs_train[3350:]):\n",
    "    fname = confs[0][\"target_dir\"]+\"/\"+(\".\".join(img_fname.split(\".\")[:-1])+\"_%s%s.jpg\"%(\"L2\", \"\")).split(\"/\")[-1]\n",
    "    if os.path.isfile(fname):\n",
    "        continue\n",
    "        \n",
    "    k = geo.GoogleMaps_Static_Image.from_filename(img_fname)\n",
    "    if k is None:\n",
    "            continue\n",
    "    L2.save_layer_patches_for_gmaps_img(k, confs)"
   ]
  },
  {
   "cell_type": "code",
   "execution_count": null,
   "metadata": {},
   "outputs": [],
   "source": []
  }
 ],
 "metadata": {
  "kernelspec": {
   "display_name": "Python 2",
   "language": "python",
   "name": "python2"
  },
  "language_info": {
   "codemirror_mode": {
    "name": "ipython",
    "version": 2
   },
   "file_extension": ".py",
   "mimetype": "text/x-python",
   "name": "python",
   "nbconvert_exporter": "python",
   "pygments_lexer": "ipython2",
   "version": "2.7.14"
  }
 },
 "nbformat": 4,
 "nbformat_minor": 2
}
