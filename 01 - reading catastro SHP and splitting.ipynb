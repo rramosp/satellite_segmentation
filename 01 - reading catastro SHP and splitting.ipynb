{
 "cells": [
  {
   "cell_type": "code",
   "execution_count": 1,
   "metadata": {},
   "outputs": [
    {
     "name": "stdout",
     "output_type": "stream",
     "text": [
      "input password for google_apikey.zip: ········\n"
     ]
    }
   ],
   "source": [
    "import matplotlib.pyplot as plt\n",
    "from rlx import geo\n",
    "import utm\n",
    "import gmaps\n",
    "import numpy as np\n",
    "import randomcolor\n",
    "from rlx.utils import read_password_protected_zip, STANDARD_COLORS\n",
    "%matplotlib inline\n",
    "API_key = read_password_protected_zip(\"google_apikey.zip\")"
   ]
  },
  {
   "cell_type": "markdown",
   "metadata": {},
   "source": [
    "- https://overpass-api.de/\n",
    "- https://mygeodata.cloud/converter/\n",
    "- http://www.birdtheme.org/useful/v3tool.html\n",
    "- https://github.com/kikocorreoso/brythonmagic/blob/master/notebooks/OpenLayers%20(python)%20tutorial.ipynb\n",
    "\n",
    "#### plugin QGIS del catastro\n",
    "\n",
    "- http://sec4qgis.tk/"
   ]
  },
  {
   "cell_type": "code",
   "execution_count": 2,
   "metadata": {},
   "outputs": [
    {
     "name": "stdout",
     "output_type": "stream",
     "text": [
      "reading shapefile\n",
      "converting to latlon\n"
     ]
    }
   ],
   "source": [
    "reload(geo)\n",
    "s = geo.read_shapefile(\"/Users/rlx/datasets/google_maps/alcala_henares.catastro_urbano_sin_historia_28_05_UA_2018-01-20_SHF/CONSTRU.SHP\",\n",
    "                      utm_zone_number=30, utm_zone_letter=\"T\")"
   ]
  },
  {
   "cell_type": "code",
   "execution_count": 3,
   "metadata": {},
   "outputs": [],
   "source": [
    "codes = s.CONSTRU.value_counts().index\n",
    "colors = randomcolor.RandomColor().generate(count=len(codes))\n",
    "code_colors = {codes[i]:colors[i] for i in range(len(codes))}\n",
    "s[\"color\"] = [code_colors[i] for i in s.CONSTRU.values]"
   ]
  },
  {
   "cell_type": "code",
   "execution_count": 4,
   "metadata": {},
   "outputs": [
    {
     "data": {
      "text/plain": [
       "[<matplotlib.lines.Line2D at 0x113af7710>]"
      ]
     },
     "execution_count": 4,
     "metadata": {},
     "output_type": "execute_result"
    },
    {
     "data": {
      "image/png": "[encoded data removed]",
      "text/plain": [
       "<matplotlib.figure.Figure at 0x1151e3e90>"
      ]
     },
     "metadata": {},
     "output_type": "display_data"
    }
   ],
   "source": [
    "k = s.CONSTRU.value_counts()\n",
    "k = k[k.values>600]\n",
    "plt.plot(k.values)"
   ]
  },
  {
   "cell_type": "markdown",
   "metadata": {},
   "source": [
    "### show some sample references"
   ]
  },
  {
   "cell_type": "code",
   "execution_count": 5,
   "metadata": {},
   "outputs": [
    {
     "name": "stdout",
     "output_type": "stream",
     "text": [
      "P         18\n",
      "-I+II     12\n",
      "-I+III    10\n",
      "I         10\n",
      "-I+I       1\n",
      "Name: CONSTRU, dtype: int64\n",
      "51\n"
     ]
    }
   ],
   "source": [
    "refcats = np.unique(s.REFCAT.values)\n",
    "k = np.random.randint(len(refcats)-100)\n",
    "p = refcats[k:k+10]\n",
    "sp = s[[i in p for i in s.REFCAT]].copy()\n",
    "print sp.CONSTRU.value_counts()\n",
    "print len(sp)"
   ]
  },
  {
   "cell_type": "code",
   "execution_count": 6,
   "metadata": {},
   "outputs": [],
   "source": [
    "def gmaps_multipolygon(latlon_coords, **kwargs):\n",
    "    gp = geojson.MultiPolygon([[[list(j) for j in i[:,::-1]] for i in latlon_coords]])\n",
    "    gf = geojson.Feature(geometry=gp)\n",
    "    gc = geojson.FeatureCollection([gf])\n",
    "    return gmaps.geojson_layer(gc, **kwargs)\n"
   ]
  },
  {
   "cell_type": "code",
   "execution_count": 7,
   "metadata": {
    "scrolled": false
   },
   "outputs": [
    {
     "data": {
      "application/vnd.jupyter.widget-view+json": {
       "model_id": "fd07327490e444ec9507741d80a969a2",
       "version_major": 2,
       "version_minor": 0
      },
      "text/html": [
       "<p>Failed to display Jupyter Widget of type <code>Figure</code>.</p>\n",
       "<p>\n",
       "  If you're reading this message in the Jupyter Notebook or JupyterLab Notebook, it may mean\n",
       "  that the widgets JavaScript is still loading. If this message persists, it\n",
       "  likely means that the widgets JavaScript library is either not installed or\n",
       "  not enabled. See the <a href=\"https://ipywidgets.readthedocs.io/en/stable/user_install.html\">Jupyter\n",
       "  Widgets Documentation</a> for setup instructions.\n",
       "</p>\n",
       "<p>\n",
       "  If you're reading this message in another frontend (for example, a static\n",
       "  rendering on GitHub or <a href=\"https://nbviewer.jupyter.org/\">NBViewer</a>),\n",
       "  it may mean that your frontend doesn't currently support widgets.\n",
       "</p>\n"
      ],
      "text/plain": [
       "Figure()"
      ]
     },
     "metadata": {},
     "output_type": "display_data"
    }
   ],
   "source": [
    "import geojson\n",
    "\n",
    "gmaps.configure(api_key=API_key)\n",
    "fig = gmaps.figure()\n",
    "\n",
    "for _, item in sp.iterrows():\n",
    "    fig.add_layer(gmaps_multipolygon(item.latlon_coords, fill_color=item.color, fill_opacity=0.5))\n",
    "fig"
   ]
  },
  {
   "cell_type": "markdown",
   "metadata": {},
   "source": [
    "### separte by type and save as kml\n",
    "\n",
    "only codes with more than 600 entries are saved"
   ]
  },
  {
   "cell_type": "code",
   "execution_count": 8,
   "metadata": {},
   "outputs": [],
   "source": [
    "from rlx import utils\n",
    "import json\n",
    "# saves dataframe from read_shapefile as geojson and kml\n",
    "# adds kml and js file extensions automatically\n",
    "def save_geo(sh_dataframe, fname):\n",
    "    r = []\n",
    "    for _,k in kp.iterrows():\n",
    "        gp = geojson.MultiPolygon([[[list(j) for j in i[:,::-1]] for i in k.latlon_coords]])\n",
    "        gf = geojson.Feature(geometry=gp)\n",
    "        r.append(gf)\n",
    "    gc = geojson.FeatureCollection(r)\n",
    "\n",
    "    js_file  = fname+'.js'  #'/Users/rlx/tmp/alcala_%s.js'%constru\n",
    "    kml_file = fname+'.kml' #'/Users/rlx/tmp/alcala_%s.kml'%constru\n",
    "    with open(js_file, 'w+') as f:\n",
    "        f.write(json.dumps(gc))\n",
    "        \n",
    "    _, stdout, _ = utils.command(\"tokml %s\"%(js_file))\n",
    "    stdout = \"\\n\".join(stdout)\n",
    "    with open(kml_file, \"w\") as f:\n",
    "        f.write(stdout)"
   ]
  },
  {
   "cell_type": "code",
   "execution_count": 13,
   "metadata": {},
   "outputs": [
    {
     "name": "stdout",
     "output_type": "stream",
     "text": [
      "10728\n"
     ]
    }
   ],
   "source": [
    "kp = s[[\"TZA\" in i for i in s.CONSTRU.values]]\n",
    "print len(kp)\n",
    "save_geo(kp, '/Users/rlx/tmp/alcala_TZA')"
   ]
  },
  {
   "cell_type": "code",
   "execution_count": 11,
   "metadata": {},
   "outputs": [
    {
     "data": {
      "text/plain": [
       "96149"
      ]
     },
     "execution_count": 11,
     "metadata": {},
     "output_type": "execute_result"
    }
   ],
   "source": [
    "len(s)"
   ]
  },
  {
   "cell_type": "code",
   "execution_count": 12,
   "metadata": {},
   "outputs": [
    {
     "name": "stdout",
     "output_type": "stream",
     "text": [
      "72538\n"
     ]
    }
   ],
   "source": [
    "kp = s[[\"I\" in i or \"V\" in i for i in s.CONSTRU.values]]\n",
    "print len(kp)\n",
    "save_geo(kp, '/Users/rlx/tmp/alcala_ALL_IV')"
   ]
  },
  {
   "cell_type": "code",
   "execution_count": 12,
   "metadata": {},
   "outputs": [
    {
     "name": "stdout",
     "output_type": "stream",
     "text": [
      "-I (2703), -I+I (3300), -I+II (8706), -I+III (5046), -I+IV (800), -I+POR (787), -I+POR+I (1852), -I+V (758), -I+VI (897), B (814), I (11682), II (6835), III (3148), IV (1397), IVTZA (1249), P (15955), PI (1004), POR (2064), POR+I (990), SS+II (1196), SS+III (813), SUELO (970), TZA (1584), V (1199), VI (660), VITZA (603),\n"
     ]
    }
   ],
   "source": [
    "for constru in np.unique(s.CONSTRU):\n",
    "    if constru[0]==\".\":\n",
    "        continue\n",
    "    kp = s[s.CONSTRU==constru]\n",
    "    if len(kp)<600:\n",
    "        continue\n",
    "    print \"%s (%d),\"%(constru, len(kp)),\n",
    "    save_geo(kp, '/Users/rlx/tmp/alcala_%s'%constru)"
   ]
  },
  {
   "cell_type": "code",
   "execution_count": 460,
   "metadata": {},
   "outputs": [
    {
     "data": {
      "text/plain": [
       "'.'"
      ]
     },
     "execution_count": 460,
     "metadata": {},
     "output_type": "execute_result"
    }
   ],
   "source": [
    "constru[0]"
   ]
  },
  {
   "cell_type": "code",
   "execution_count": 450,
   "metadata": {},
   "outputs": [],
   "source": [
    "from rlx import utils\n",
    "\n",
    "constru=\"PI\"\n",
    "#kp = s[[len(i)>1 for i in s.latlon_coords]]\n",
    "kp = s[s.CONSTRU==constru]\n",
    "\n",
    "from rlx import utils\n",
    "# saves dataframe from read_shapefile as geojson and kml\n",
    "# adds kml and js file extensions automatically\n",
    "def save_geo(sh_dataframe, fname):\n",
    "    r = []\n",
    "    for _,k in kp.iterrows():\n",
    "        gp = geojson.MultiPolygon([[[list(j) for j in i[:,::-1]] for i in k.latlon_coords]])\n",
    "        gf = geojson.Feature(geometry=gp)\n",
    "        r.append(gf)\n",
    "    gc = geojson.FeatureCollection(r)\n",
    "\n",
    "    js_file  = fname+'.js'  #'/Users/rlx/tmp/alcala_%s.js'%constru\n",
    "    kml_file = fname+'.kml' #'/Users/rlx/tmp/alcala_%s.kml'%constru\n",
    "    with open(js_file, 'w+') as f:\n",
    "        f.write(json.dumps(gc))\n",
    "\n",
    "    !tokml $js_file > $kml_file"
   ]
  },
  {
   "cell_type": "code",
   "execution_count": 451,
   "metadata": {},
   "outputs": [],
   "source": [
    "js_file = '/Users/rlx/tmp/alcala_%s.js'%constru\n",
    "kml_file = '/Users/rlx/tmp/alcala_%s.kml'%constru\n",
    "with open(js_file, 'w+') as f:\n",
    "    f.write(json.dumps(gc))\n",
    "    \n",
    "!tokml $js_file > $kml_file"
   ]
  },
  {
   "cell_type": "code",
   "execution_count": 449,
   "metadata": {},
   "outputs": [],
   "source": [
    "!tokml $js_file > $kml_file"
   ]
  },
  {
   "cell_type": "code",
   "execution_count": 452,
   "metadata": {},
   "outputs": [
    {
     "data": {
      "text/plain": [
       "array(['-I', '-I+-I', '-I+B', '-I+CO', '-I+DEP', '-I+EPT+II',\n",
       "       '-I+EPT+XIV', '-I+EPT+XVI', '-I+I', '-I+I+B', '-I+I+EPT',\n",
       "       '-I+I+EPT+I', '-I+I+EPT+II', '-I+I+EPT+III', '-I+I+EPT+IV',\n",
       "       '-I+I+EPT+TZA+I', '-I+I+I', '-I+I+IIITZA', '-I+I+IIITZA+I',\n",
       "       '-I+I+IITZA', '-I+I+ITZA', '-I+I+IV', '-I+I+IVTZA', '-I+I+IVTZA+I',\n",
       "       '-I+I+POR', '-I+I+TZA', '-I+I+TZA+I', '-I+I+TZA+I+TZA+I',\n",
       "       '-I+I+TZA+II', '-I+I+VII', '-I+I+VIIITZA', '-I+I+VIITZA',\n",
       "       '-I+I+VIITZA+I', '-I+I+VITZA', '-I+I+VIVOL', '-I+I+VPOR',\n",
       "       '-I+I+VTZA', '-I+I+XTZA', '-I+II', '-I+II+ALT', '-I+II+I',\n",
       "       '-I+II+IIITZA', '-I+II+IITZA', '-I+II+ITZA', '-I+II+IVTZA',\n",
       "       '-I+II+POR', '-I+II+TZA', '-I+II+TZA+I+TZA', '-I+II+VIIITZA',\n",
       "       '-I+II+VITZA', '-I+III', '-I+III+ALT', '-I+III+IITZA',\n",
       "       '-I+III+ITZA', '-I+III+TZA', '-I+III+TZA+I', '-I+IIISOP+IV',\n",
       "       '-I+IIITZA', '-I+IIITZA+I', '-I+IIIVOL', '-I+IIPOR', '-I+IISOP+IV',\n",
       "       '-I+IITZA', '-I+IIVOL', '-I+IPOR+I', '-I+ITZA', '-I+ITZA+I',\n",
       "       '-I+ITZA+III', '-I+ITZA+IV', '-I+IV', '-I+IV+ITZA', '-I+IV+TZA',\n",
       "       '-I+IVOL', '-I+IVOL+I', '-I+IVSOP+I', '-I+IVSOP+II',\n",
       "       '-I+IVSOP+III', '-I+IVTZA', '-I+IVTZA+I', '-I+IVVOL', '-I+IX',\n",
       "       '-I+IX+TZA', '-I+IXTZA', '-I+P', '-I+P+I', '-I+P+I+IIITZA',\n",
       "       '-I+P+I+IVTZA', '-I+P+I+TZA', '-I+P+II', '-I+P+III',\n",
       "       '-I+P+III+IIITZA', '-I+P+III+IITZA', '-I+P+IIITZA', '-I+P+IITZA',\n",
       "       '-I+P+IV', '-I+P+IV+IITZA', '-I+P+IV+TZA', '-I+P+TZA', '-I+P+V',\n",
       "       '-I+P+V+TZA', '-I+P+VI', '-I+P+VII', '-I+P+VTZA', '-I+PI',\n",
       "       '-I+PJE+II', '-I+POR', '-I+POR+B', '-I+POR+I', '-I+POR+I+TZA',\n",
       "       '-I+POR+II', '-I+POR+II+ITZA', '-I+POR+III', '-I+POR+IIITZA',\n",
       "       '-I+POR+IITZA', '-I+POR+IV', '-I+POR+IV+ITZA', '-I+POR+IVTZA',\n",
       "       '-I+POR+IVTZA+I', '-I+POR+POR', '-I+POR+TZA', '-I+POR+TZA+I',\n",
       "       '-I+POR+V', '-I+POR+V+TZA', '-I+POR+VI', '-I+POR+VII',\n",
       "       '-I+POR+VIII', '-I+POR+VIITZA', '-I+POR+VITZA', '-I+POR+VTZA',\n",
       "       '-I+SOP', '-I+SOP+B', '-I+SOP+I', '-I+SOP+II', '-I+SOP+II+TZA',\n",
       "       '-I+SOP+III', '-I+SOP+III+TZA', '-I+SOP+IV', '-I+SOP+IX',\n",
       "       '-I+SOP+P+IIITZA', '-I+SOP+TZA', '-I+SOP+V', '-I+SOP+VI',\n",
       "       '-I+SOP+VII', '-I+SOP+VIII', '-I+SOP+VITZA', '-I+SOP+VPOR',\n",
       "       '-I+SOP+VTZA', '-I+SOP+VVOL', '-I+SS+IX', '-I+T', '-I+TEN',\n",
       "       '-I+TEN+V', '-I+TEN+VI', '-I+TZA', '-I+TZA+I', '-I+TZA+II',\n",
       "       '-I+TZA+IV', '-I+TZA+V', '-I+V', '-I+V+IITZA', '-I+V+ITZA',\n",
       "       '-I+V+TZA', '-I+V+TZA+I', '-I+VI', '-I+VI+TZA', '-I+VII',\n",
       "       '-I+VII+ITZA', '-I+VIII', '-I+VIIITZA', '-I+VIIITZA+I',\n",
       "       '-I+VIIIVOL', '-I+VIITZA', '-I+VIIVOL', '-I+VISOP+I', '-I+VITZA',\n",
       "       '-I+VITZA+I', '-I+VIVOL', '-I+VOL', '-I+VSOP+II', '-I+VTZA',\n",
       "       '-I+VTZA+I', '-I+VVOL', '-I+X', '-I+XI', '-I+XII', '-I+XIII',\n",
       "       '-I+XIV', '-I+XTZA', '-I+ZD', '-I+ZPAV', '-II', '-II+B',\n",
       "       '-II+EPT+I', '-II+EPT+IV', '-II+I', '-II+I+B', '-II+I+EPT+I',\n",
       "       '-II+I+EPT+III', '-II+I+EPT+IV', '-II+I+EPT+V', '-II+I+IIITZA',\n",
       "       '-II+I+IITZA', '-II+I+IV', '-II+I+IVTZA', '-II+I+POR', '-II+I+TZA',\n",
       "       '-II+I+TZA+II', '-II+I+VITZA', '-II+I+VITZA+I', '-II+I+VTZA',\n",
       "       '-II+II', '-II+II+IIITZA', '-II+II+TZA', '-II+II+VTZA', '-II+III',\n",
       "       '-II+III+TZA', '-II+IIITZA', '-II+IIITZA+II', '-II+IIIVOL',\n",
       "       '-II+IITZA', '-II+IIVOL', '-II+IV', '-II+IV+IIITZA',\n",
       "       '-II+IV+IITZA', '-II+IV+PI', '-II+IV+TZA', '-II+IVTZA',\n",
       "       '-II+IVVOL', '-II+IX', '-II+P', '-II+P+II', '-II+P+III',\n",
       "       '-II+P+IV', '-II+P+IV+IITZA', '-II+P+TZA', '-II+P+VI', '-II+P+VII',\n",
       "       '-II+P+VIITZA', '-II+P+VITZA', '-II+PI', '-II+POR', '-II+POR+II',\n",
       "       '-II+POR+III', '-II+POR+IV', '-II+POR+V', '-II+SOP', '-II+SOP+I',\n",
       "       '-II+SOP+II', '-II+SOP+III', '-II+SOP+IV', '-II+SOP+TZA',\n",
       "       '-II+SOP+V', '-II+SS', '-II+SS+I', '-II+SS+II', '-II+SS+IX',\n",
       "       '-II+SS+POR', '-II+SS+V', '-II+SS+VII', '-II+SS+VIII', '-II+T',\n",
       "       '-II+TEN', '-II+TZA', '-II+TZA+III', '-II+TZA+IV', '-II+TZA+V',\n",
       "       '-II+V', '-II+V+IITZA', '-II+V+TZA', '-II+VI', '-II+VII',\n",
       "       '-II+VIII', '-II+VIIITZA', '-II+VIITZA', '-II+VITZA',\n",
       "       '-II+VITZA+I', '-II+VTZA', '-II+VTZA+I', '-II+ZPAV', '-III',\n",
       "       '-III+I', '-III+I+TZA+I', '-III+II', '-III+II+TZA', '-III+III',\n",
       "       '-III+IV', '-III+IVTZA', '-III+P+II', '-III+SOP', '-III+SS',\n",
       "       '-III+SS+I', '-III+SS+II', '-III+SS+III', '-III+SS+IV', '-III+TZA',\n",
       "       '-III+TZA+V', '-III+V', '-III+VI', '-III+VTZA', '-III+VTZA+I',\n",
       "       '-IV+I', '-IV+II', '-IV+III', '.-I 06-I01P', '.-I 06-I02P',\n",
       "       '.-I 06-I03P', '.-I 06-I04P', '.-I 06-I05P',\n",
       "       '.-I+I+3TZA11-I02I+IIITZA', '.-I+I+IIITZA11-I04I+IIITZ',\n",
       "       '.-I+I+IIITZA12-I07I+IIITZ', '.-I+I+IIITZA12-I09I+IIITZ',\n",
       "       '.-I+I+IITZA12-I06I+IITZA', '.-I+I+IITZA12-I10I+IITZA',\n",
       "       '.-I+I+ITZA11-I02I+ITZA', '.-I+I+ITZA11-I03I+ITZA',\n",
       "       '.-I+I+ITZA11-I04I+ITZA', '.-I+I+ITZA11-I05I+ITZA',\n",
       "       '.-I+I+IVTZA11-I01I+IVTZA', '.-I+I+IVTZA11-I03I+IVTZA',\n",
       "       '.-I+I+IVTZA11-I05I+IVTZA', '.-I+I+TZA 06-I01I+TZA',\n",
       "       '.-I+I+TZA 06-I02I+TZA', '.-I+I+TZA 06-I03I+TZA',\n",
       "       '.-I+I+TZA 06-I04I+TZA', '.-I+I+TZA 06-I05I+TZA', '.-I+I03-I02I',\n",
       "       '.-I+I12-106I', '.-I+I12-I07I', '.-I+I12-I09I', '.-I+I12-I10I',\n",
       "       '.-I+I88-I23I', '.-I+I88-I24I', '.-I+I88-I25I', '.-I+I88-I26I',\n",
       "       '.-I+I88-I27I', '.-I+I88-I28I', '.-I+I88-I29I', '.-I+I88-I30I',\n",
       "       '.-I+I88-I31I', '.-I+I88-I32I', '.-I+I88-I33I', '.-I+I88-I34I',\n",
       "       '.-I+I88-I35I', '.-I+I88-I36I', '.-I+I88-I37I', '.-I+I88-I38I',\n",
       "       '.-I+I88-I39I', '.-I+I88-I40I', '.-I+I88-I47I', '.-I+I88-I48I',\n",
       "       '.-I+I88-I49I', '.-I+I88-I50I', '.-I+I88-I51I', '.-I+I88-I52I',\n",
       "       '.-I+I88-I53I', '.-I+I88-I54I', '.-I+I88-I55I', '.-I+I88-I56I',\n",
       "       '.-I+I88-I57I', '.-I+I88-I58I', '.-I+I88-I59I', '.-I+I88-I60I',\n",
       "       '.-I+I88-I61I', '.-I+I88-I62I', '.-I+I88-I63I', '.-I+I88-I64I',\n",
       "       '.-I+II+IIITZA12-I07II+III', '.-I+II+IIITZA12-I08II+III',\n",
       "       '.-I+II+IIITZA12-I09II+III', '.-I+II+IITZA12-I06II+IITZ',\n",
       "       '.-I+II+IITZA12-I10II+IITZ', '.-I+II12-I10II', '.-I+II88-I23II',\n",
       "       '.-I+II88-I24II', '.-I+II88-I25II', '.-I+II88-I26II',\n",
       "       '.-I+II88-I27II', '.-I+II88-I28II', '.-I+II88-I29II',\n",
       "       '.-I+II88-I30II', '.-I+II88-I31II', '.-I+II88-I32II',\n",
       "       '.-I+II88-I33II', '.-I+II88-I34II', '.-I+II88-I35II',\n",
       "       '.-I+II88-I36II', '.-I+II88-I37II', '.-I+II88-I38II',\n",
       "       '.-I+II88-I39II', '.-I+II88-I40II', '.-I+II88-I47II',\n",
       "       '.-I+II88-I48II', '.-I+II88-I49II', '.-I+II88-I50II',\n",
       "       '.-I+II88-I51II', '.-I+II88-I52II', '.-I+II88-I53II',\n",
       "       '.-I+II88-I54II', '.-I+II88-I55II', '.-I+II88-I56II',\n",
       "       '.-I+II88-I57II', '.-I+II88-I58II', '.-I+II88-I59II',\n",
       "       '.-I+II88-I60II', '.-I+II88-I61II', '.-I+II88-I62II',\n",
       "       '.-I+II88-I63II', '.-I+II88-I64II', '.-I+III10I01-I+II',\n",
       "       '.-I+III88-I24III', '.-I+III88-I25III', '.-I+III88-I26III',\n",
       "       '.-I+III88-I28III', '.-I+III88-I29III', '.-I+III88-I30III',\n",
       "       '.-I+III88-I31III', '.-I+III88-I32III', '.-I+III88-I33III',\n",
       "       '.-I+III88-I34III', '.-I+III88-I35III', '.-I+III88-I36III',\n",
       "       '.-I+III88-I37III', '.-I+III88-I38III', '.-I+III88-I39III',\n",
       "       '.-I+III88-I47III', '.-I+III88-I48III', '.-I+III88-I49III',\n",
       "       '.-I+III88-I50III', '.-I+III88-I51III', '.-I+III88-I52III',\n",
       "       '.-I+III88-I53III', '.-I+III88-I54III', '.-I+III88-I55III',\n",
       "       '.-I+III88-I56III', '.-I+III88-I57III', '.-I+III88-I58III',\n",
       "       '.-I+III88-I59III', '.-I+III88-I60III', '.-I+III88-I61III',\n",
       "       '.-I+III88-I62III', '.-I+III88-I63III', '.-I+IIITZA11-I02IIITZA',\n",
       "       '.-I+IIITZA11-I04IIITZA', '.-I+IIITZA12-I06IIITZA',\n",
       "       '.-I+IIITZA12-I07IIITZA', '.-I+IIITZA12-I08IIITZA',\n",
       "       '.-I+IIITZA12-I09IIITZA', '.-I+IIITZA12-I10IIITZA',\n",
       "       '.-I+IIIVOL12-I06IIIVOL', '.-I+IIIVOL12-I10IIIVOL',\n",
       "       '.-I+IITZA12-I06IITZA', '.-I+IITZA12-I10IITZA',\n",
       "       '.-I+ITZA+I12-I06ITZA+I', '.-I+ITZA+I12-I10ITZA+I',\n",
       "       '.-I+ITZA+III12-I06ITZA+II', '.-I+ITZA+III12-I10ITZA+II',\n",
       "       '.-I+ITZA+IV12-I06ITZA+IV', '.-I+ITZA+IV12-I07ITZA+IV',\n",
       "       '.-I+ITZA+IV12-I08ITZA+IV', '.-I+ITZA+IV12-I09ITZA+IV',\n",
       "       '.-I+ITZA+IV12-I10ITZA+IV', '.-I+ITZA11-I01ITZA',\n",
       "       '.-I+ITZA11-I02ITZA', '.-I+ITZA11-I03ITZA', '.-I+ITZA11-I04ITZA',\n",
       "       '.-I+ITZA11-I05ITZA', '.-I+ITZA12-I06ITZA', '.-I+ITZA12-I07ITZA',\n",
       "       '.-I+ITZA12-I08ITZA', '.-I+ITZA12-I09ITZA', '.-I+ITZA12-I10ITZA',\n",
       "       '.-I+IV11-I02IV', '.-I+IV11-I04IV', '.-I+IV12-I06IV',\n",
       "       '.-I+IV12-I07IV', '.-I+IV12-I08IV', '.-I+IV12-I09IV',\n",
       "       '.-I+IV12-I10IV', '.-I+IVTZA11-I01IVTZA', '.-I+IVTZA11-I03IVTZA',\n",
       "       '.-I+IVTZA11-I05IVTZA', '.-I+IX01-I02IX', '.-I+IX03-I02IX',\n",
       "       '.-I+P+3TZA11-I02P+IIITZA', '.-I+P+II07P05-I+II',\n",
       "       '.-I+P+ITZA11-I02P+ITZA', '.-I+P01-I02P', '.-I+P03-I02P',\n",
       "       '.-I+P07-I08P', '.-I+P08-I11P', '.-I+P11-I01P', '.-I+P11-I02P',\n",
       "       '.-I+P11-I03P', '.-I+P11-I04P', '.-I+P11-I05P', '.-I+P12-I06P',\n",
       "       '.-I+P12-I07P', '.-I+P12-I08P', '.-I+P12-I09P', '.-I+P12-I10P',\n",
       "       '.-I+P88-I23P', '.-I+P88-I24P', '.-I+P88-I25P', '.-I+P88-I26P',\n",
       "       '.-I+P88-I27P', '.-I+P88-I28P', '.-I+P88-I29P', '.-I+P88-I30P',\n",
       "       '.-I+P88-I31P', '.-I+P88-I32P', '.-I+P88-I33P', '.-I+P88-I34P',\n",
       "       '.-I+P88-I35P', '.-I+P88-I36P', '.-I+P88-I37P', '.-I+P88-I38P',\n",
       "       '.-I+P88-I39P', '.-I+P88-I40P', '.-I+P88-I47P', '.-I+P88-I48P',\n",
       "       '.-I+P88-I49P', '.-I+P88-I50P', '.-I+P88-I51P', '.-I+P88-I52P',\n",
       "       '.-I+P88-I53P', '.-I+P88-I54P', '.-I+P88-I55P', '.-I+P88-I56P',\n",
       "       '.-I+P88-I57P', '.-I+P88-I58P', '.-I+P88-I59P', '.-I+P88-I60P',\n",
       "       '.-I+P88-I61P', '.-I+P88-I62P', '.-I+P88-I63P', '.-I+P88-I64P',\n",
       "       '.-I+V11-I01V', '.-I+V11-I02V', '.-I+V11-I03V', '.-I+V11-I04V',\n",
       "       '.-I+V11-I05V', '.-I+V12-110V', '.-I+V12-I06V', '.-I+V12-I07V',\n",
       "       '.-I+V12-I08V', '.-I+V12-I09V', '.-I+V12-I10V', '.-I+VI11-I01VI',\n",
       "       '.-I+VI11-I03VI', '.-I+VI11-I05VI', '.-I+VII 06-I01VII',\n",
       "       '.-I+VII 06-I03VII', '.-I+VII 06-I04VII', '.-I+VII 06-I05VII',\n",
       "       '.-I+VIII 06-I01VIII', '.-I+VIII 06-I02VII', '.-I+VIII 06-I02VIII',\n",
       "       '.-I+VIII 06-I03VIII', '.-I+VIII 06-I04VIII',\n",
       "       '.-I+VIII 06-I05VIII', '.-I+VIII01-I02VIII', '.-I+VIII03-I02VIII',\n",
       "       '.-I+VIIITZA01-I02VIIITZA', '.-I+VIIITZA03-I02VIIITZA',\n",
       "       '.-II+P05-II06P', '.-II+ZD05-II06ZD', '.I+IVTZA06IVTZA05I',\n",
       "       '.I+VIITZAI08VIITZA01', '.I+VTZA11VTZA16I', '.II+P10II02P',\n",
       "       '.II04I10I', '.II08I07I', '.II12I16I', '.II19I20I', '.II21I19I',\n",
       "       '.III04II05I', '.III07I06II', '.III09I08II', '.III12I16II',\n",
       "       '.III12II13I', '.III15II14I', '.III16I13II', '.III19II21I',\n",
       "       '.III36I35II', '.IV09I08III', '.IV09I10III', '.IV10III13I',\n",
       "       '.IV14I13III', '.IV21I23I22II', '.IV21III20I', '.IV34III35I',\n",
       "       '.IV39III38I', '.IV43I42III', '.IV43III41I', '.IV43III42I',\n",
       "       '.IV44III42I', '.IV44III43I', '.P+II09P10II',\n",
       "       '.P+IIITZA04P02IIITZA', '.P+IIITZA04P03IIITZA', '.P+IV11P01IV',\n",
       "       '.P+IV11P09IV', '.P+IV11P09V', '.P+IV11P10IV',\n",
       "       '.P+VIIITZA04P01VIIITZA', '.P+VIIITZA04P02VIIITZA',\n",
       "       '.P+VIIITZA04P03VIIITZA', '.SOP+II08II34SOP', '.SOP+II36SOP10II',\n",
       "       '.SOP+III08III34SOP', '.SOP+IV02SOP03IV', '.SOP+IV08SOP09IV',\n",
       "       '.SOP+IV10SOP09IV', '.SOP+IV13SOP12IV', '.SOP+IV15SOP16IV',\n",
       "       '.SOP+IV19SOP18IV', '.SUELO+III13III04SUELO',\n",
       "       '.SUELO+IV13IV04SUELO', '.SUELO+IV18IV26SUELO',\n",
       "       '.SUELO+IV21IV26SUELO', '.SUELO+IV25IV26SUELO', '.V02I03IV',\n",
       "       '.V08I09IV', '.V10I09IV', '.V11IV16I', '.V13I12IV', '.V15I16IV',\n",
       "       '.V19I18IV', '.VI11V16I', '.VII11VI10I', '.VIII11VII10I',\n",
       "       '.X05I04IX', '?', 'B', 'CO', 'CONS', 'DEP', 'EPT', 'EPT+I',\n",
       "       'EPT+II', 'ESC', 'FUT', 'GOLF', 'I', 'I+ALT', 'I+ALT+IV',\n",
       "       'I+ALT+V', 'I+B', 'I+CO', 'I+EPT', 'I+EPT+I', 'I+EPT+II',\n",
       "       'I+EPT+III', 'I+EPT+IV', 'I+EPT+IVTZA', 'I+EPT+IX', 'I+EPT+V',\n",
       "       'I+EPT+VI', 'I+EPT+VII', 'I+EPT+VIII', 'I+I', 'I+I+IIITZA',\n",
       "       'I+IIIPOR', 'I+IIITZA', 'I+IIITZA+I', 'I+IITZA', 'I+IITZA+I',\n",
       "       'I+ITZA', 'I+IV', 'I+IVOL', 'I+IVTZA', 'I+IXTZA', 'I+P', 'I+POR',\n",
       "       'I+POR+I', 'I+TZA', 'I+TZA+I', 'I+TZA+TZA', 'I+V', 'I+VIIITZA',\n",
       "       'I+VIITZA', 'I+VITZA', 'I+VOL', 'I+VTZA', 'I+XIIITZA', 'I+XIITZA',\n",
       "       'I+XITZA', 'I+XTZA', 'II', 'II+ALT', 'II+CO', 'II+I', 'II+IIITZA',\n",
       "       'II+ITZA', 'II+IV', 'II+IVTZA', 'II+POR', 'II+TZA', 'II+TZA+I',\n",
       "       'II+VIIITZA', 'III', 'III+IIITZA', 'III+IITZA', 'III+POR',\n",
       "       'III+TZA', 'IIIPOR', 'IIITZA', 'IIIVOL', 'IIIVOL+ITZA', 'IIPOR',\n",
       "       'IIPOR+I', 'IIPOR+II', 'IISOP+IIITZA', 'IISOP+TZA', 'IITZA',\n",
       "       'IIVOL', 'ITZA', 'ITZA+IX', 'IV', 'IV+ITZA', 'IV+TZA', 'IV+VI',\n",
       "       'IVOL', 'IVPOR', 'IVSOP+TZA', 'IVTZA', 'IVVOL', 'IVVOL+TZA', 'IX',\n",
       "       'IX+I', 'IXTZA', 'IXVOL', 'JD', 'MAR', 'P', 'P+I', 'P+II',\n",
       "       'P+II+VIITZA', 'P+III', 'P+IIITZA', 'P+IITZA', 'P+IV', 'P+IVTZA',\n",
       "       'P+IX', 'P+TZA', 'P+V', 'P+VI', 'P+VII', 'P+VIII', 'P+VIITZA',\n",
       "       'P+VITZA', 'P+VTZA', 'PI', 'PI+III', 'PJE', 'PJE+IX', 'POR',\n",
       "       'POR+B', 'POR+EPT', 'POR+EPT+I', 'POR+I', 'POR+I+TZA', 'POR+II',\n",
       "       'POR+III', 'POR+IISOP+I', 'POR+IITZA', 'POR+ITZA', 'POR+ITZA+I',\n",
       "       'POR+IV', 'POR+IVTZA', 'POR+IX', 'POR+IXTZA', 'POR+P+I', 'POR+POR',\n",
       "       'POR+TZA', 'POR+TZA+I', 'POR+V', 'POR+VI', 'POR+VII', 'POR+VIII',\n",
       "       'POR+VIIITZA', 'POR+VIITZA', 'POR+VITZA', 'POR+X', 'POR+XI',\n",
       "       'POR+XIII', 'POR+XIIITZA', 'RUINA', 'SILO', 'SOP', 'SOP+I',\n",
       "       'SOP+I+VIIITZA', 'SOP+II', 'SOP+III', 'SOP+IV', 'SOP+IVTZA',\n",
       "       'SOP+IX', 'SOP+IX+TZA', 'SOP+IXTZA', 'SOP+POR', 'SOP+V', 'SOP+VI',\n",
       "       'SOP+VII', 'SOP+VIII', 'SOP+VIIITZA', 'SOP+VTZA', 'SOP+VVOL',\n",
       "       'SOP+X', 'SOP+XI', 'SOP+XITZA', 'SS', 'SS+I', 'SS+I+IVOL',\n",
       "       'SS+I+TZA', 'SS+I+TZA+I', 'SS+II', 'SS+II+ALT', 'SS+II+I',\n",
       "       'SS+II+TZA', 'SS+III', 'SS+IIPOR+I', 'SS+IIVOL', 'SS+IV', 'SS+IX',\n",
       "       'SS+POR', 'SS+POR+I', 'SS+POR+II', 'SS+POR+III', 'SS+POR+TZA',\n",
       "       'SS+POR+TZA+I', 'SS+TZA', 'SS+V', 'SS+VI', 'SS+VII', 'SS+VIII',\n",
       "       'SS+X', 'SS+XI', 'SUELO', 'T', 'T+B', 'TEN', 'TRF', 'TRF+IV',\n",
       "       'TRF+IVTZA', 'TRF+XI', 'TRF+XITZA', 'TZA', 'TZA+I', 'TZA+VII', 'V',\n",
       "       'V+IITZA', 'V+ITZA', 'VI', 'VII', 'VII+TZA+I', 'VIII',\n",
       "       'VIII+EPT+II', 'VIIITZA', 'VIIITZA+I', 'VIIIVOL', 'VIITZA',\n",
       "       'VIIVOL', 'VITZA', 'VIVOL', 'VOL', 'VOL+I', 'VOL+II', 'VOL+III',\n",
       "       'VOL+IV', 'VOL+V', 'VTZA', 'VVOL', 'X', 'XI', 'XII', 'XIII',\n",
       "       'XIIITZA', 'XIITZA', 'XITZA', 'XIV', 'XTZA', 'XV', 'ZBE', 'ZD',\n",
       "       'ZPAV'], dtype=object)"
      ]
     },
     "execution_count": 452,
     "metadata": {},
     "output_type": "execute_result"
    }
   ],
   "source": [
    "np.unique(s.CONSTRU)"
   ]
  },
  {
   "cell_type": "code",
   "execution_count": 453,
   "metadata": {},
   "outputs": [],
   "source": [
    "from rlx import utils"
   ]
  },
  {
   "cell_type": "code",
   "execution_count": 454,
   "metadata": {},
   "outputs": [],
   "source": [
    "utils.command?"
   ]
  },
  {
   "cell_type": "code",
   "execution_count": 57,
   "metadata": {},
   "outputs": [
    {
     "data": {
      "text/plain": [
       "'0.7.0'"
      ]
     },
     "execution_count": 57,
     "metadata": {},
     "output_type": "execute_result"
    }
   ],
   "source": [
    "gmaps.__version__"
   ]
  },
  {
   "cell_type": "code",
   "execution_count": 13,
   "metadata": {},
   "outputs": [
    {
     "data": {
      "text/plain": [
       "array([ True, False, False,  True])"
      ]
     },
     "execution_count": 13,
     "metadata": {},
     "output_type": "execute_result"
    }
   ],
   "source": [
    "a = np.r_[True, False, False, True]\n",
    "a"
   ]
  },
  {
   "cell_type": "code",
   "execution_count": 14,
   "metadata": {},
   "outputs": [
    {
     "data": {
      "text/plain": [
       "2"
      ]
     },
     "execution_count": 14,
     "metadata": {},
     "output_type": "execute_result"
    }
   ],
   "source": [
    "sum(a)"
   ]
  },
  {
   "cell_type": "code",
   "execution_count": null,
   "metadata": {},
   "outputs": [],
   "source": []
  }
 ],
 "metadata": {
  "kernelspec": {
   "display_name": "Python 2",
   "language": "python",
   "name": "python2"
  },
  "language_info": {
   "codemirror_mode": {
    "name": "ipython",
    "version": 2
   },
   "file_extension": ".py",
   "mimetype": "text/x-python",
   "name": "python",
   "nbconvert_exporter": "python",
   "pygments_lexer": "ipython2",
   "version": "2.7.14"
  }
 },
 "nbformat": 4,
 "nbformat_minor": 2
}
